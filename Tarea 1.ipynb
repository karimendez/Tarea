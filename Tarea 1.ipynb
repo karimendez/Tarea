{
 "cells": [
  {
   "cell_type": "markdown",
   "id": "29a6441b",
   "metadata": {},
   "source": [
    "# Ensayo de Git\n",
    "### Escrito por Karina Lissette Díaz\n",
    "\n",
    "##### **Contenido**\n",
    "\n",
    "Antes de comenzar a hablar acerca de GIT es importante conocer el concepto de **los sistemas de control de versiones** los cuales son herramientas que se utilizan para realizar un seguimiento de los cambios en el código fuente u otras colecciones de archivos o carpetas, estas herramientas ayudan a rastrear el historial de cambios en algun conjunto de documentos, facilitan la colaboración por lo cual son utiles para trabajar en equipo en un proyecto de software o como cada persona lo desee.\n",
    "\n",
    "##### **GIT**\n",
    "Es un software de control de versiones diseñado por *Linus Torvalds*, pensando en la eficiencia, la confiabilidad y compatibilidad del mantenimiento de versiones de aplicaciones cuando estas tienen un gran número de archivos de código fuente.\n",
    "~~GIT su principal propósito~~ es llevar un registro de los cambios en archivos de computadora incluyendo el trabajo que varias personas hacen sobre un archivo compartido en un repositorio.\n",
    "Ademas este diseño de GIT se basó\n",
    "\n",
    " **Características de GIT**\n",
    "\n",
    "1. Fuerte apoyo al desarrollo no lineal.\n",
    "2. Gestión distribuida.\n",
    "3. Los almacenes de información pueden publicarse por HTTP, FTP, rsync o mediante protocolo nativo.\n",
    "4. Los repositorios subversion y svk.\n",
    "5. Gestión eficiente de proyectos grandes.\n",
    "6. Realmacenamiento periódico en paquetes(ficheros).\n",
    "\n",
    "**Órdenes básicas de GIT**\n",
    "\n",
    "|Comando                    |Descripción                                  |\n",
    "|:--------------------------|--------------------------------------------:|\n",
    "|git init:                  |Esto crea un subdirectorio nuevo llamado .git|\n",
    "|git fetch:                 |Descarga los cambios en el repositorio remoto|\n",
    "|git merge<nombre>:         |Impacta en la rama en que se encuentre       |\n",
    "|git pull:                  |Unifica los comando fetch y merge en uno solo|\n",
    "|git commit -m \"<mensaje>\": |Confirma los cambios realizados              |\n",
    "|git push origin <rama>:    |Sube la rama \"rama\" al servidor remoto       |\n",
    "|git status:                |Muestra el estado actual de la rama          |\n",
    "|git add <nombre>:          |Comienza a trackear el archivo \"nombre\"      |\n",
    "|git checkout -b <nombre>:  |Crea una rama apartir de la que encuentre    |\n",
    "|git brach:                 |Lista todas las ramas locales                |\n",
    "|git remote prune origin:   |Actualiza tu repositorio remoto              |\n",
    "|git reset --hard HEAD:     |Elimina los cambios realizados de un commit  |\n",
    "|git revert <hash_commit>:  |Revierte el commit realizado                 |\n",
    "\n",
    " \n",
    "**Flujo de trabajo de GIT**\n",
    "  \n",
    "<img src=\"https://desarrollowp.com/wp-content/uploads/2020/10/Git-Working-Tree.png\">\n",
    "\n",
    "\n",
    "** Link de refencia de GIT**\n",
    "\n",
    "1.https://equisd.com/comandos-git-control-version/\n",
    "2.https://rogerdudler.github.io/git-guide/index.es.html\n",
    "3.https://www.youtube.com/watch?v=vlCXdvcgiE0\n",
    "\n",
    "\n",
    "\n",
    "\n",
    "\n",
    "\n",
    "\n"
   ]
  },
  {
   "cell_type": "code",
   "execution_count": null,
   "id": "f578e001",
   "metadata": {},
   "outputs": [],
   "source": []
  }
 ],
 "metadata": {
  "kernelspec": {
   "display_name": "Python 3 (ipykernel)",
   "language": "python",
   "name": "python3"
  },
  "language_info": {
   "codemirror_mode": {
    "name": "ipython",
    "version": 3
   },
   "file_extension": ".py",
   "mimetype": "text/x-python",
   "name": "python",
   "nbconvert_exporter": "python",
   "pygments_lexer": "ipython3",
   "version": "3.9.13"
  }
 },
 "nbformat": 4,
 "nbformat_minor": 5
}
